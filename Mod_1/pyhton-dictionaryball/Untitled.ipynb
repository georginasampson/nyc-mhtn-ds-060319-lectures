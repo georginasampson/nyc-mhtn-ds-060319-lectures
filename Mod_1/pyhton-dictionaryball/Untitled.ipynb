{
 "cells": [
  {
   "cell_type": "code",
   "execution_count": 1,
   "metadata": {},
   "outputs": [],
   "source": [
    "game_dictionary = {'home': {'team_name': 'Brooklyn Nets',\n",
    "                            'colors': ['Black', 'White'],\n",
    "                            'players': {'Alan Anderson': {\n",
    "                                            'number': 0,\n",
    "                                            'shoe': 16,\n",
    "                                            'points': 22,\n",
    "                                            'rebounds': 12,\n",
    "                                            'assists': 12,\n",
    "                                            'steals': 3,\n",
    "                                            'blocks': 1,\n",
    "                                            'slam_dunks': 1\n",
    "                                        },\n",
    "                                        'Reggie Evans': {\n",
    "                                            'number': 30,\n",
    "                                            'shoe': 14,\n",
    "                                            'points': 12,\n",
    "                                            'rebounds': 12,\n",
    "                                            'assists': 12,\n",
    "                                            'steals': 12,\n",
    "                                            'blocks': 12,\n",
    "                                            'slam_dunks': 7\n",
    "                                        },\n",
    "                                        'Brook Lopez': {\n",
    "                                            'number': 11,\n",
    "                                            'shoe': 17,\n",
    "                                            'points': 17,\n",
    "                                            'rebounds': 19,\n",
    "                                            'assists': 10,\n",
    "                                            'steals': 3,\n",
    "                                            'blocks': 1,\n",
    "                                            'slam_dunks': 15\n",
    "                                        },\n",
    "                                        'Mason Plumlee': {\n",
    "                                            'number': 1,\n",
    "                                            'shoe': 19,\n",
    "                                            'points': 26,\n",
    "                                            'rebounds': 12,\n",
    "                                            'assists': 6,\n",
    "                                            'steals': 3,\n",
    "                                            'blocks': 8,\n",
    "                                            'slam_dunks': 5\n",
    "                                        },\n",
    "                                        'Jason Terry': {\n",
    "                                            'number': 31,\n",
    "                                            'shoe': 15,\n",
    "                                            'points': 19,\n",
    "                                            'rebounds': 2,\n",
    "                                            'assists': 2,\n",
    "                                            'steals': 4,\n",
    "                                            'blocks': 11,\n",
    "                                            'slam_dunks': 1\n",
    "                                        }\n",
    "                                        }},\n",
    "                    'away': {'team_name': 'Charlotte Hornets',\n",
    "                            'colors': ['Turquoise', 'Purple'],\n",
    "                            'players': {'Jeff Adrien': {\n",
    "                                            'number': 4,\n",
    "                                            'shoe': 18,\n",
    "                                            'points': 10,\n",
    "                                            'rebounds': 1,\n",
    "                                            'assists': 1,\n",
    "                                            'steals': 2,\n",
    "                                            'blocks': 7,\n",
    "                                            'slam_dunks': 2\n",
    "                                        },\n",
    "                                        'Bismak Biyombo': {\n",
    "                                            'number': 0,\n",
    "                                            'shoe': 16,\n",
    "                                            'points': 12,\n",
    "                                            'rebounds': 4,\n",
    "                                            'assists': 7,\n",
    "                                            'steals': 7,\n",
    "                                            'blocks': 15,\n",
    "                                            'slam_dunks': 10\n",
    "                                        },\n",
    "                                        'DeSagna Diop': {\n",
    "                                            'number': 2,\n",
    "                                            'shoe': 14,\n",
    "                                            'points': 24,\n",
    "                                            'rebounds': 12,\n",
    "                                            'assists': 12,\n",
    "                                            'steals': 4,\n",
    "                                            'blocks': 5,\n",
    "                                            'slam_dunks': 5\n",
    "                                        },\n",
    "                                        'Ben Gordon': {\n",
    "                                            'number': 8,\n",
    "                                            'shoe': 15,\n",
    "                                            'points': 33,\n",
    "                                            'rebounds': 3,\n",
    "                                            'assists': 2,\n",
    "                                            'steals': 1,\n",
    "                                            'blocks': 1,\n",
    "                                            'slam_dunks': 0\n",
    "                                        },\n",
    "                                        'Brendan Haywood': {\n",
    "                                            'number': 33,\n",
    "                                            'shoe': 15,\n",
    "                                            'points': 6,\n",
    "                                            'rebounds': 12,\n",
    "                                            'assists': 12,\n",
    "                                            'steals': 22,\n",
    "                                            'blocks': 5,\n",
    "                                            'slam_dunks': 12\n",
    "                                        }}}}\n"
   ]
  },
  {
   "cell_type": "code",
   "execution_count": 2,
   "metadata": {},
   "outputs": [],
   "source": [
    "def game_dict():\n",
    "    return game_dictionary"
   ]
  },
  {
   "cell_type": "code",
   "execution_count": 3,
   "metadata": {},
   "outputs": [
    {
     "name": "stdout",
     "output_type": "stream",
     "text": [
      "Brooklyn Nets\n"
     ]
    }
   ],
   "source": [
    "def home_team_name():\n",
    "  return game_dict()['home']['team_name']\n",
    "\n",
    "print(home_team_name())"
   ]
  },
  {
   "cell_type": "code",
   "execution_count": 26,
   "metadata": {
    "scrolled": true
   },
   "outputs": [
    {
     "name": "stdout",
     "output_type": "stream",
     "text": [
      "{'Alan Anderson': {'number': 0, 'shoe': 16, 'points': 22, 'rebounds': 12, 'assists': 12, 'steals': 3, 'blocks': 1, 'slam_dunks': 1}, 'Reggie Evans': {'number': 30, 'shoe': 14, 'points': 12, 'rebounds': 12, 'assists': 12, 'steals': 12, 'blocks': 12, 'slam_dunks': 7}, 'Brook Lopez': {'number': 11, 'shoe': 17, 'points': 17, 'rebounds': 19, 'assists': 10, 'steals': 3, 'blocks': 1, 'slam_dunks': 15}, 'Mason Plumlee': {'number': 1, 'shoe': 19, 'points': 26, 'rebounds': 12, 'assists': 6, 'steals': 3, 'blocks': 8, 'slam_dunks': 5}, 'Jason Terry': {'number': 31, 'shoe': 15, 'points': 19, 'rebounds': 2, 'assists': 2, 'steals': 4, 'blocks': 11, 'slam_dunks': 1}}\n"
     ]
    }
   ],
   "source": [
    "def team_stats():\n",
    "    return game_dict()['home']['players']\n",
    "print(num_points_scored())"
   ]
  },
  {
   "cell_type": "code",
   "execution_count": 33,
   "metadata": {},
   "outputs": [
    {
     "data": {
      "text/plain": [
       "'Alan Anderson'"
      ]
     },
     "execution_count": 33,
     "metadata": {},
     "output_type": "execute_result"
    }
   ],
   "source": [
    "def individual_stats():\n",
    "    for i in team_stats():\n",
    "        return i\n",
    "individual_stats()"
   ]
  },
  {
   "cell_type": "code",
   "execution_count": null,
   "metadata": {},
   "outputs": [],
   "source": []
  },
  {
   "cell_type": "code",
   "execution_count": null,
   "metadata": {},
   "outputs": [],
   "source": []
  }
 ],
 "metadata": {
  "kernelspec": {
   "display_name": "Python 3",
   "language": "python",
   "name": "python3"
  },
  "language_info": {
   "codemirror_mode": {
    "name": "ipython",
    "version": 3
   },
   "file_extension": ".py",
   "mimetype": "text/x-python",
   "name": "python",
   "nbconvert_exporter": "python",
   "pygments_lexer": "ipython3",
   "version": "3.7.3"
  }
 },
 "nbformat": 4,
 "nbformat_minor": 2
}
