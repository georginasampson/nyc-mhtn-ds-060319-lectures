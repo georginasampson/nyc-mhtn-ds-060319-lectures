{
 "cells": [
  {
   "cell_type": "code",
   "execution_count": null,
   "metadata": {},
   "outputs": [],
   "source": [
    "client_id = '5senwnEqxeH82m5OZ1q-NQ'\n",
    "api_key = 'VkLyFcRbkslGW3Gbj45Z1dk3IPJfu9EBeU7RsFhs-pQdCt3_RXQ8ISHZMCvK1CP_olzOkzRYRNtHuSPDELjZ5mFLlgaaOKHNxk0mE2ggPivyn2uaeLzkYmPZLfTbXHYx'"
   ]
  },
  {
   "cell_type": "code",
   "execution_count": null,
   "metadata": {},
   "outputs": [],
   "source": []
  }
 ],
 "metadata": {
  "kernelspec": {
   "display_name": "Python 3",
   "language": "python",
   "name": "python3"
  },
  "language_info": {
   "codemirror_mode": {
    "name": "ipython",
    "version": 3
   },
   "file_extension": ".py",
   "mimetype": "text/x-python",
   "name": "python",
   "nbconvert_exporter": "python",
   "pygments_lexer": "ipython3",
   "version": "3.7.3"
  }
 },
 "nbformat": 4,
 "nbformat_minor": 2
}
